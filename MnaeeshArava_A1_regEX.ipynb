{
 "cells": [
  {
   "cell_type": "code",
   "execution_count": 1,
   "id": "26c76490",
   "metadata": {},
   "outputs": [
    {
     "name": "stdout",
     "output_type": "stream",
     "text": [
      "Enter a number: 5\n",
      "5 5 5 5 5 \n",
      "5 5 5 5 \n",
      "5 5 5 \n",
      "5 5 \n",
      "5 \n"
     ]
    }
   ],
   "source": [
    "n = int(input(\"Enter a number: \"))\n",
    "c=0\n",
    "m=n\n",
    "for i in range(n) :\n",
    "    for j in range(n):\n",
    "        print(m,end=\" \")\n",
    "    print()\n",
    "    c=c+1\n",
    "    n=n-1\n",
    "    m=n+c"
   ]
  },
  {
   "cell_type": "code",
   "execution_count": 2,
   "id": "a9c34d01",
   "metadata": {},
   "outputs": [
    {
     "name": "stdout",
     "output_type": "stream",
     "text": [
      "Enter a number: 5\n",
      "0 1 2 3 4 5 \n",
      "0 1 2 3 4 \n",
      "0 1 2 3 \n",
      "0 1 2 \n",
      "0 1 \n"
     ]
    }
   ],
   "source": [
    "n = int(input(\"Enter a number: \"))\n",
    "for i in range(n) :\n",
    "    for j in range(n+1):\n",
    "        print(j,end=\" \")\n",
    "    print()\n",
    "    n=n-1"
   ]
  },
  {
   "cell_type": "code",
   "execution_count": 3,
   "id": "280d601f",
   "metadata": {},
   "outputs": [
    {
     "name": "stdout",
     "output_type": "stream",
     "text": [
      "Enter a number: 5\n",
      "1 \n",
      "3 3 \n",
      "5 5 5 \n",
      "7 7 7 7 \n",
      "9 9 9 9 9 \n"
     ]
    }
   ],
   "source": [
    "n = int(input(\"Enter a number: \"))\n",
    "m=1\n",
    "for i in range(n) :\n",
    "    for j in range(i+1):\n",
    "        print(m,end=\" \")\n",
    "    print()\n",
    "    m+=2\n"
   ]
  },
  {
   "cell_type": "code",
   "execution_count": 4,
   "id": "95e95bad",
   "metadata": {},
   "outputs": [
    {
     "name": "stdout",
     "output_type": "stream",
     "text": [
      "Enter a number: 5\n",
      "1 \n",
      "2 1 \n",
      "3 2 1 \n",
      "4 3 2 1 \n",
      "5 4 3 2 1 \n"
     ]
    }
   ],
   "source": [
    "n = int(input(\"Enter a number: \"))\n",
    "for i in range(1,n+1) :\n",
    "    m=i\n",
    "    for j in range(1,i+1):\n",
    "        print(m,end=\" \")\n",
    "        m-=1\n",
    "    print()"
   ]
  },
  {
   "cell_type": "code",
   "execution_count": 5,
   "id": "35482664",
   "metadata": {},
   "outputs": [
    {
     "name": "stdout",
     "output_type": "stream",
     "text": [
      "Enter a number: 5\n",
      "1 \n",
      "3 2 \n",
      "6 5 4 \n",
      "10 9 8 7 \n",
      "15 14 13 12 11 \n"
     ]
    }
   ],
   "source": [
    "n = int(input(\"Enter a number: \"))\n",
    "c=1\n",
    "for i in range(n) :\n",
    "    m=i+c\n",
    "    \n",
    "    for j in range(i+1):\n",
    "        print(m,end=\" \")\n",
    "        m-=1\n",
    "        c+=1\n",
    "    print()\n",
    "    "
   ]
  },
  {
   "cell_type": "code",
   "execution_count": null,
   "id": "7d72ff0d",
   "metadata": {
    "scrolled": true
   },
   "outputs": [],
   "source": []
  },
  {
   "cell_type": "code",
   "execution_count": 6,
   "id": "ecf81818",
   "metadata": {},
   "outputs": [
    {
     "name": "stdout",
     "output_type": "stream",
     "text": [
      "enter value:5\n",
      "1 2 3 4 5 \n",
      "2 2 3 4 5 \n",
      "3 3 3 4 5 \n",
      "4 4 4 4 5 \n",
      "5 5 5 5 5 \n"
     ]
    }
   ],
   "source": [
    "n=int(input(\"enter value:\"))\n",
    "for i in range(1,n+1) :\n",
    "    \n",
    "    \n",
    "    for j in range(1,n+1):\n",
    "        if(j<i):\n",
    "            print(i,end=\" \")\n",
    "        if(j>=i):\n",
    "            print(j,end=\" \")\n",
    "    print()\n",
    "    \n",
    "    "
   ]
  },
  {
   "cell_type": "code",
   "execution_count": 7,
   "id": "17bcf07c",
   "metadata": {},
   "outputs": [
    {
     "name": "stdout",
     "output_type": "stream",
     "text": [
      "Enter a number: 5\n",
      "1 \n",
      "2 4 \n",
      "3 6 9 \n",
      "4 8 12 16 \n",
      "5 10 15 20 25 \n"
     ]
    }
   ],
   "source": [
    "n = int(input(\"Enter a number: \"))\n",
    "for i in range(1,n+1) :\n",
    "    m=i\n",
    "    for j in range(1,i+1):\n",
    "        print(m,end=\" \")\n",
    "        m+=i\n",
    "    print()"
   ]
  },
  {
   "cell_type": "code",
   "execution_count": 10,
   "id": "ad868777",
   "metadata": {},
   "outputs": [
    {
     "name": "stdout",
     "output_type": "stream",
     "text": [
      "     * * * * * * \n",
      "      * * * * *\n",
      "       * * * * \n",
      "        * * * \n",
      "         * * \n",
      "          * \n",
      "           \n"
     ]
    }
   ],
   "source": [
    "c=1\n",
    "k=1\n",
    "for i in range(1,8):\n",
    "    for j in range(5):\n",
    "        print(' ',end='')\n",
    "    if(i>2):\n",
    "        c=1\n",
    "        k=1\n",
    "        for j in range(1,i):\n",
    "            print(' ',end='')\n",
    "    if(c==1 and k==1):\n",
    "        c=0\n",
    "        for j in range(1,8-i):\n",
    "            print('* ',end='')\n",
    "    else:\n",
    "        c=1\n",
    "        for j in range(1,8-i):\n",
    "            print(' *',end='')    \n",
    "    print()"
   ]
  },
  {
   "cell_type": "code",
   "execution_count": 11,
   "id": "e77eefe5",
   "metadata": {},
   "outputs": [
    {
     "name": "stdout",
     "output_type": "stream",
     "text": [
      "           * \n",
      "          * * \n",
      "         * * * \n",
      "        * * * * \n",
      "       * * * * * \n",
      "      * * * * * * \n",
      "     * * * * * * * \n"
     ]
    }
   ],
   "source": [
    "c=1\n",
    "k=1\n",
    "for i in range(1,8):\n",
    "    for j in range(5):\n",
    "        print(' ',end='')\n",
    "    if(i>0):\n",
    "        c=1\n",
    "        k=1\n",
    "        for j in range(1,8-i):\n",
    "            print(' ',end='')\n",
    "    if(c==1 and k==1):\n",
    "        c=0\n",
    "        for j in range(1,i+1):\n",
    "            print('* ',end='')\n",
    "    else:\n",
    "        c=1\n",
    "        for j in range(1,i+1):\n",
    "            print(' *',end='')    \n",
    "    print()"
   ]
  },
  {
   "cell_type": "code",
   "execution_count": 12,
   "id": "47efa7a7",
   "metadata": {},
   "outputs": [
    {
     "name": "stdout",
     "output_type": "stream",
     "text": [
      "enter value:5\n",
      "* \n",
      "* * \n",
      "* * * \n",
      "* * * * \n",
      "* * * * * \n",
      "\n",
      "* * * * * \n",
      "* * * * \n",
      "* * * \n",
      "* * \n",
      "* \n"
     ]
    }
   ],
   "source": [
    "\n",
    "n=int(input('enter value:'))\n",
    "for i in range (1, n+2): \n",
    "    if(i<=n):\n",
    "        print('* '*i)\n",
    "    else:\n",
    "        print()\n",
    "        k=n\n",
    "        for j in range(1,n+1):\n",
    "            print('* '*k)\n",
    "            k=k-1\n",
    "            "
   ]
  },
  {
   "cell_type": "code",
   "execution_count": 13,
   "id": "eb805517",
   "metadata": {},
   "outputs": [
    {
     "name": "stdout",
     "output_type": "stream",
     "text": [
      "enter value:5\n",
      "* \n",
      "* * \n",
      "* * * \n",
      "* * * * \n",
      "* * * * * \n",
      "* * * * \n",
      "* * * \n",
      "* * \n",
      "* \n",
      "\n"
     ]
    }
   ],
   "source": [
    "\n",
    "n=int(input('enter value:'))\n",
    "for i in range (1, n+2): \n",
    "    if(i<=n):\n",
    "        print('* '*i)\n",
    "    else:\n",
    "        k=n\n",
    "        for j in range(1,n+1):\n",
    "            k=k-1\n",
    "            print('* '*k)\n",
    "           \n",
    "            "
   ]
  },
  {
   "cell_type": "code",
   "execution_count": 15,
   "id": "a407c472",
   "metadata": {},
   "outputs": [
    {
     "name": "stdout",
     "output_type": "stream",
     "text": [
      "enter value:8\n",
      "* * * * * * \n",
      " * * * * *\n",
      "  * * * * \n",
      "   * * * \n",
      "    * * \n",
      "     * \n",
      "     * \n",
      "    * * \n",
      "   * * * \n",
      "  * * * * \n",
      " * * * * * \n",
      "* * * * * * \n"
     ]
    }
   ],
   "source": [
    "c=1\n",
    "k=1\n",
    "n=int(input('enter value:'))\n",
    "for i in range(1,n-1):\n",
    "    if(i<(n-1)):\n",
    "        if(i>2):\n",
    "            c=1\n",
    "            k=1\n",
    "            for j in range(1,i):\n",
    "                print(' ',end='')\n",
    "        if(c==1 and k==1):\n",
    "            c=0\n",
    "            for j in range(1,n-i):\n",
    "                print('* ',end='')\n",
    "        else:\n",
    "            c=1\n",
    "            for j in range(1,n-i):\n",
    "                print(' *',end='') \n",
    "        print()\n",
    "for i in range(2,n):\n",
    "        for j in range(1,n-i):\n",
    "            print(' ',end='')\n",
    "        for j in range(1,i):\n",
    "            print('* ',end='')\n",
    "        print()"
   ]
  },
  {
   "cell_type": "code",
   "execution_count": 16,
   "id": "122d4367",
   "metadata": {},
   "outputs": [
    {
     "name": "stdout",
     "output_type": "stream",
     "text": [
      "enter value:8\n",
      "        *\n",
      "       **\n",
      "      ***\n",
      "     ****\n",
      "    *****\n",
      "   ******\n",
      "  *******\n",
      " ********\n",
      "  *******\n",
      "   ******\n",
      "    *****\n",
      "     ****\n",
      "      ***\n",
      "       **\n",
      "        *\n"
     ]
    }
   ],
   "source": [
    "\n",
    "n=int(input('enter value:'))\n",
    "k=n\n",
    "for i in range (1, n*2): \n",
    "    if(i<=n):\n",
    "        print(' '*(n-i),'*'*i)\n",
    "    else:\n",
    "        k=k-1\n",
    "        print(' '*(i-n),'*'*k)\n",
    "            "
   ]
  },
  {
   "cell_type": "code",
   "execution_count": 17,
   "id": "4413f456",
   "metadata": {},
   "outputs": [
    {
     "name": "stdout",
     "output_type": "stream",
     "text": [
      "enter value:6\n",
      "**************\n",
      "***** __ *****\n",
      "**** ____ ****\n",
      "*** ______ ***\n",
      "** ________ **\n",
      "* __________ *\n"
     ]
    }
   ],
   "source": [
    "n=int(input('enter value:'))\n",
    "for i in range(n):\n",
    "    if(i>0):\n",
    "        print('*'*(n-i),'_'*(i*2),'*'*(n-i))\n",
    "    else:\n",
    "        print('*'*(n*2+2))\n",
    "    "
   ]
  }
 ],
 "metadata": {
  "kernelspec": {
   "display_name": "Python 3",
   "language": "python",
   "name": "python3"
  },
  "language_info": {
   "codemirror_mode": {
    "name": "ipython",
    "version": 3
   },
   "file_extension": ".py",
   "mimetype": "text/x-python",
   "name": "python",
   "nbconvert_exporter": "python",
   "pygments_lexer": "ipython3",
   "version": "3.8.8"
  }
 },
 "nbformat": 4,
 "nbformat_minor": 5
}
